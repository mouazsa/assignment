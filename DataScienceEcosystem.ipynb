{
 "cells": [
  {
   "cell_type": "markdown",
   "id": "7dd3e9cd-9dfd-4834-b213-a2533de0d083",
   "metadata": {},
   "source": [
    "# Data Science Tools And Ecosystem "
   ]
  },
  {
   "cell_type": "markdown",
   "id": "ff55559b-d739-488b-8173-dd596b156490",
   "metadata": {},
   "source": [
    "## In this notebook, Data Science Tools and Ecosystem are summurized."
   ]
  },
  {
   "cell_type": "markdown",
   "id": "25de2497-250f-42ac-b05d-77b58fbcf36d",
   "metadata": {},
   "source": [
    "###  Some of the popular languages that Data Scientists use are:\n",
    "#### - Python\n",
    "#### - R\n",
    "#### - SQL"
   ]
  },
  {
   "cell_type": "markdown",
   "id": "3f38a1dd-e8a3-4647-bae8-2ed19956203b",
   "metadata": {},
   "source": [
    "### Some of the commonly used libraries used by Data Scientists include:\n",
    "#### - Panda \n",
    "#### - Numpy \n",
    "#### - Matplotlib\n"
   ]
  },
  {
   "cell_type": "markdown",
   "id": "6bcbe075-0dc6-4e89-bcb1-6fbd99e175e3",
   "metadata": {},
   "source": [
    "#### | Data Science Tools |\n",
    "#### | Anaconda Navigator |\n",
    "#### | Jupyter Notebook |\n",
    "#### | Bycharm community | "
   ]
  },
  {
   "cell_type": "markdown",
   "id": "a9f4be86-3d34-4c4e-85e1-98010711fa4b",
   "metadata": {},
   "source": [
    "### Below are a few examples of evaluating arithmetic expressions in Python"
   ]
  },
  {
   "cell_type": "code",
   "execution_count": 11,
   "id": "ff583781-6a5b-4955-a796-c6f9dd8ac2d4",
   "metadata": {},
   "outputs": [
    {
     "data": {
      "text/plain": [
       "17"
      ]
     },
     "execution_count": 11,
     "metadata": {},
     "output_type": "execute_result"
    }
   ],
   "source": [
    "# This a simple arithmetic expression to mutiply then add integers\n",
    "(3*4)+5"
   ]
  },
  {
   "cell_type": "code",
   "execution_count": 19,
   "id": "7d1838e9-e8ab-4d52-b4e1-c13e611b46f4",
   "metadata": {},
   "outputs": [
    {
     "name": "stdout",
     "output_type": "stream",
     "text": [
      "3.3333333333333335\n"
     ]
    }
   ],
   "source": [
    "# This will convert 200 minutes to hours by diving by 60\n",
    "minutes = 200\n",
    "m_to_h = minutes / 60 \n",
    "print(m_to_h) "
   ]
  },
  {
   "cell_type": "markdown",
   "id": "ea40b720-9d94-43b9-9b4b-fa7667a3ad8d",
   "metadata": {},
   "source": [
    "# Objectives:"
   ]
  },
  {
   "cell_type": "markdown",
   "id": "2f86827a-e59c-4405-bcc5-6a68bbbbe943",
   "metadata": {},
   "source": [
    "##### - Python \n",
    "##### - R\n",
    "##### - SQL"
   ]
  },
  {
   "cell_type": "markdown",
   "id": "ec1ff8bc-50ef-4f33-b581-872f5aa056a2",
   "metadata": {},
   "source": [
    "## Author Mouaz Mohammed"
   ]
  },
  {
   "cell_type": "code",
   "execution_count": null,
   "id": "452c0cae-38d0-456d-a0f2-a9601ef3c211",
   "metadata": {},
   "outputs": [],
   "source": []
  }
 ],
 "metadata": {
  "kernelspec": {
   "display_name": "Python 3 (ipykernel)",
   "language": "python",
   "name": "python3"
  },
  "language_info": {
   "codemirror_mode": {
    "name": "ipython",
    "version": 3
   },
   "file_extension": ".py",
   "mimetype": "text/x-python",
   "name": "python",
   "nbconvert_exporter": "python",
   "pygments_lexer": "ipython3",
   "version": "3.12.4"
  }
 },
 "nbformat": 4,
 "nbformat_minor": 5
}
